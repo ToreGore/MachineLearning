{
 "cells": [
  {
   "cell_type": "code",
   "execution_count": 13,
   "metadata": {},
   "outputs": [],
   "source": [
    "import os\n",
    "import logging \n",
    "import struct\n",
    "import random\n",
    "import math\n",
    "import numpy as np\n",
    "import pandas as pd\n",
    "import numpy.random as nrnd\n",
    "from matplotlib import pyplot as plt"
   ]
  },
  {
   "cell_type": "markdown",
   "metadata": {},
   "source": [
    "The K-NN Algorithm\n",
    "    1. Find distances between new item and all other items\n",
    "    2. Pick k shortest distances\n",
    "    3. Pick the most common class in these k distances\n",
    "    4. That class is where we will classify the new item"
   ]
  },
  {
   "cell_type": "markdown",
   "metadata": {},
   "source": [
    "# Reproducibility"
   ]
  },
  {
   "cell_type": "code",
   "execution_count": 14,
   "metadata": {},
   "outputs": [],
   "source": [
    "os.environ['PYTHONHASHSEED'] = '0'\n",
    "nrnd.seed(42)\n",
    "random.seed(42)"
   ]
  },
  {
   "cell_type": "markdown",
   "metadata": {},
   "source": [
    "## Dataset generation\n",
    "    It will be replaced by the actual dataset, so let's keep it as simple as possible"
   ]
  },
  {
   "cell_type": "code",
   "execution_count": 15,
   "metadata": {},
   "outputs": [
    {
     "data": {
      "text/plain": [
       "['Height, Weight, Age, Class',\n",
       " '1.70, 65, 20, Programmer',\n",
       " '1.90, 85, 33, Builder',\n",
       " '1.78, 76, 31, Builder',\n",
       " '1.73, 74, 24, Programmer',\n",
       " '1.81, 75, 35, Builder',\n",
       " '1.73, 70, 75, Scientist',\n",
       " '1.80, 71, 63, Scientist',\n",
       " '1.75, 69, 25, Programmer']"
      ]
     },
     "execution_count": 15,
     "metadata": {},
     "output_type": "execute_result"
    }
   ],
   "source": [
    "f = open('data.txt', 'r')\n",
    "lines = f.read().splitlines()\n",
    "f.close()\n",
    "\n",
    "lines"
   ]
  },
  {
   "cell_type": "markdown",
   "metadata": {},
   "source": [
    "    Data splitting.\n",
    "    Items are shuffled."
   ]
  },
  {
   "cell_type": "code",
   "execution_count": 31,
   "metadata": {},
   "outputs": [
    {
     "data": {
      "text/plain": [
       "[{'Class': 'Scientist', 'Height': 1.73, 'Weight': 70.0, 'Age': 75.0},\n",
       " {'Class': 'Builder', 'Height': 1.81, 'Weight': 75.0, 'Age': 35.0},\n",
       " {'Class': 'Builder', 'Height': 1.9, 'Weight': 85.0, 'Age': 33.0},\n",
       " {'Class': 'Builder', 'Height': 1.78, 'Weight': 76.0, 'Age': 31.0},\n",
       " {'Class': 'Programmer', 'Height': 1.75, 'Weight': 69.0, 'Age': 25.0},\n",
       " {'Class': 'Programmer', 'Height': 1.7, 'Weight': 65.0, 'Age': 20.0},\n",
       " {'Class': 'Scientist', 'Height': 1.8, 'Weight': 71.0, 'Age': 63.0},\n",
       " {'Class': 'Programmer', 'Height': 1.73, 'Weight': 74.0, 'Age': 24.0}]"
      ]
     },
     "execution_count": 31,
     "metadata": {},
     "output_type": "execute_result"
    }
   ],
   "source": [
    "features = lines[0].split(', ')[:-1]\n",
    "items = []\n",
    "\n",
    "for i in range(1, len(lines)):\n",
    "    line = lines[i].split(', ')\n",
    "    item_feature = {\"Class\" : line[-1]}\n",
    "    \n",
    "    #Iterate through features\n",
    "    for j in range(len(features)):\n",
    "        #Get feature at index j\n",
    "        f = features[j]\n",
    "        #First item in line is class, must be skipped\n",
    "        v = float(line[j])\n",
    "        #Add feature to dictionary\n",
    "        item_feature[f] = v\n",
    "    \n",
    "    #Append temporary dictionary to items\n",
    "    items.append(item_feature)\n",
    "\n",
    "random.shuffle(items)\n",
    "items"
   ]
  },
  {
   "cell_type": "markdown",
   "metadata": {},
   "source": [
    "# Algorithm Implementation"
   ]
  },
  {
   "cell_type": "markdown",
   "metadata": {},
   "source": [
    "## Classifying the data\n",
    "    The distance between the items in the training set and the item to be classified must be calculated\n",
    "    \n",
    "## Euclidean distance function"
   ]
  },
  {
   "cell_type": "code",
   "execution_count": null,
   "metadata": {},
   "outputs": [],
   "source": [
    "def euclidean_distance(x, y):\n",
    "    dist_sum = 0\n",
    "    for k in x.keys():\n",
    "        dist_sum += math.pow(x[key] - y[key], 2)\n",
    "    return math.sqrt(dist_sum)"
   ]
  },
  {
   "cell_type": "code",
   "execution_count": null,
   "metadata": {},
   "outputs": [],
   "source": []
  },
  {
   "cell_type": "code",
   "execution_count": null,
   "metadata": {},
   "outputs": [],
   "source": []
  },
  {
   "cell_type": "code",
   "execution_count": null,
   "metadata": {},
   "outputs": [],
   "source": []
  },
  {
   "cell_type": "code",
   "execution_count": null,
   "metadata": {},
   "outputs": [],
   "source": []
  },
  {
   "cell_type": "code",
   "execution_count": null,
   "metadata": {},
   "outputs": [],
   "source": []
  },
  {
   "cell_type": "code",
   "execution_count": null,
   "metadata": {},
   "outputs": [],
   "source": []
  }
 ],
 "metadata": {
  "kernelspec": {
   "display_name": "Python 3",
   "language": "python",
   "name": "python3"
  },
  "language_info": {
   "codemirror_mode": {
    "name": "ipython",
    "version": 3
   },
   "file_extension": ".py",
   "mimetype": "text/x-python",
   "name": "python",
   "nbconvert_exporter": "python",
   "pygments_lexer": "ipython3",
   "version": "3.6.6"
  }
 },
 "nbformat": 4,
 "nbformat_minor": 2
}
